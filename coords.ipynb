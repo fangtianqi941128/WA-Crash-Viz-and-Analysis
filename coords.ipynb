{
 "cells": [
  {
   "cell_type": "code",
   "execution_count": 1,
   "metadata": {
    "collapsed": true,
    "slideshow": {
     "slide_type": "skip"
    }
   },
   "outputs": [],
   "source": [
    "import pandas as pd\n",
    "import folium\n",
    "import folium.plugins\n",
    "import warnings\n",
    "warnings.filterwarnings('ignore')"
   ]
  },
  {
   "cell_type": "markdown",
   "metadata": {
    "nbpresent": {
     "id": "6e88ee8d-372d-445c-8b4d-bdcb28393a0b"
    },
    "slideshow": {
     "slide_type": "slide"
    }
   },
   "source": [
    "# WA Crash Viz and Analysis\n",
    "### By Katharine Chen, Tianqi Fang, Yutong Liu, Shuyi Yin"
   ]
  },
  {
   "cell_type": "markdown",
   "metadata": {
    "slideshow": {
     "slide_type": "slide"
    }
   },
   "source": [
    "## Problem Background"
   ]
  },
  {
   "cell_type": "markdown",
   "metadata": {
    "nbpresent": {
     "id": "a40bfb3e-6e54-4149-ab8e-8e0ee3d33d26"
    },
    "slideshow": {
     "slide_type": "fragment"
    }
   },
   "source": [
    "+ Broad variety of factors (environmental, physical, etc) that contribute to a road’s overall safety;<br>\n",
    "+ Important for general users, in addition to administrative/government officials, to be able to assess road conditions easily in a user-friendly interface;"
   ]
  },
  {
   "cell_type": "markdown",
   "metadata": {
    "slideshow": {
     "slide_type": "slide"
    }
   },
   "source": [
    "## Use case"
   ]
  },
  {
   "cell_type": "markdown",
   "metadata": {
    "slideshow": {
     "slide_type": "fragment"
    }
   },
   "source": [
    "+ Average driver may consult the map and analysis before travel;<br>\n",
    "+ DOT planners, police officers and other professionals may look deeper into contributing factors;<br>\n",
    "+ They are all **non-programmers** and thus need an interactive environment that visualize past accidents and tell them what factors contribute most to crashes;<br>\n",
    "+ ***Rainy day, steep downhill curved road, old car, young driver;***"
   ]
  },
  {
   "cell_type": "markdown",
   "metadata": {
    "slideshow": {
     "slide_type": "slide"
    }
   },
   "source": [
    "## Python Libraries:\n",
    "+ Folium;\n",
    "+ Bokeh;\n",
    "+ Matplotlib;"
   ]
  },
  {
   "cell_type": "markdown",
   "metadata": {
    "slideshow": {
     "slide_type": "slide"
    }
   },
   "source": [
    "## Folium simple example"
   ]
  },
  {
   "cell_type": "markdown",
   "metadata": {
    "nbpresent": {
     "id": "25b29645-8b9e-4bde-87ed-866c6b9bfac9"
    },
    "slideshow": {
     "slide_type": "subslide"
    }
   },
   "source": [
    "### Data cleaning"
   ]
  },
  {
   "cell_type": "code",
   "execution_count": 2,
   "metadata": {
    "collapsed": true,
    "nbpresent": {
     "id": "6156f31e-28f4-4da1-bd57-e82c7a2fbc50"
    },
    "slideshow": {
     "slide_type": "skip"
    }
   },
   "outputs": [],
   "source": [
    "def clean(source, sink):\n",
    "    df = pd.read_csv(source)\n",
    "    df = df.dropna()\n",
    "    df.to_csv(sink)\n",
    "    pass"
   ]
  },
  {
   "cell_type": "code",
   "execution_count": 3,
   "metadata": {
    "collapsed": true,
    "nbpresent": {
     "id": "101be67f-a6e2-4853-8a04-0772237b136b"
    },
    "slideshow": {
     "slide_type": "skip"
    }
   },
   "outputs": [],
   "source": [
    "# use case:\n",
    "clean(\"coords.csv\", \"coords_cleaned.csv\")"
   ]
  },
  {
   "cell_type": "markdown",
   "metadata": {
    "ExecuteTime": {
     "end_time": "2019-11-02T23:36:33.837798Z",
     "start_time": "2019-11-02T23:36:33.036734Z"
    },
    "nbpresent": {
     "id": "4d8ca9f1-f3dc-43e5-9553-d8cef54f4dec"
    },
    "slideshow": {
     "slide_type": "subslide"
    }
   },
   "source": [
    "### Mapping"
   ]
  },
  {
   "cell_type": "markdown",
   "metadata": {
    "nbpresent": {
     "id": "a9e26218-501f-473d-8c67-deb67385a21a"
    },
    "slideshow": {
     "slide_type": "fragment"
    }
   },
   "source": [
    "#### Load datasets with Pandas"
   ]
  },
  {
   "cell_type": "code",
   "execution_count": 2,
   "metadata": {
    "collapsed": true,
    "nbpresent": {
     "id": "80229835-5669-4aaa-a214-221960a41c74"
    },
    "slideshow": {
     "slide_type": "skip"
    }
   },
   "outputs": [],
   "source": [
    "def readCleanLoc(source):\n",
    "    '''\n",
    "    @param source: cleaned csv file of lat/lons\n",
    "    @use case: df_cleaned = readLoc(\"coords_gps.csv\")\n",
    "    '''\n",
    "    # read from file\n",
    "    df_cleaned = pd.read_csv(source)\n",
    "    \n",
    "    # change column name\n",
    "    df_cleaned.columns = ['lat', 'lon']\n",
    "    \n",
    "    # assert no nan after cleaning\n",
    "    assert not df_cleaned.isnull().values.any()\n",
    "    return df_cleaned"
   ]
  },
  {
   "cell_type": "code",
   "execution_count": 3,
   "metadata": {
    "collapsed": true,
    "nbpresent": {
     "id": "003929bc-21ab-4c5c-a567-39ae6bbb1e39"
    },
    "slideshow": {
     "slide_type": "skip"
    }
   },
   "outputs": [],
   "source": [
    "def readOrig(origSource, cleanLocSource):\n",
    "    '''\n",
    "    @param origSource: original dataset file\n",
    "    @param cleanLocSource: cleaned lat/lon file\n",
    "    @use case: df = readOrig(\"WA_Rural_St_RtesCrashes_Full.csv\")\n",
    "    '''\n",
    "\n",
    "    # read\n",
    "    df = pd.read_csv(origSource)\n",
    "    \n",
    "    # select columns\n",
    "    columns = ['DATE',\n",
    "               'PRIMARY TRAFFICWAY',\n",
    "               'MILEPOST',\n",
    "               '# INJ',\n",
    "               '# FAT',\n",
    "               'WA STATE PLANE SOUTH - X 2010 - FORWARD',\n",
    "               'WA STATE PLANE SOUTH - Y 2010 - FORWARD']\n",
    "    df = df[columns]\n",
    "    \n",
    "    # drop rows that have nan in defined columns\n",
    "    df = df.dropna(subset=['WA STATE PLANE SOUTH - X 2010 - FORWARD',\n",
    "                      'WA STATE PLANE SOUTH - Y 2010 - FORWARD'])\n",
    "    \n",
    "    # must collapse index\n",
    "    df = df.reset_index(drop=True)\n",
    "    \n",
    "    # transform time\n",
    "    df['date'] = pd.to_datetime(df['DATE'])\n",
    "    df['year'] = df['date'].dt.year\n",
    "    \n",
    "    columns = ['PRIMARY TRAFFICWAY',\n",
    "               'MILEPOST',\n",
    "               '# INJ',\n",
    "               '# FAT',\n",
    "               'WA STATE PLANE SOUTH - X 2010 - FORWARD',\n",
    "               'WA STATE PLANE SOUTH - Y 2010 - FORWARD',\n",
    "               'year']\n",
    "    df = df[columns]\n",
    "    \n",
    "    # change columns name\n",
    "    df.columns = ['PRIMARY TRAFFICWAY',\n",
    "                  'MILEPOST',\n",
    "                  '# INJ',\n",
    "                  '# FAT',\n",
    "                  'lat',\n",
    "                  'lon',\n",
    "                  'year']\n",
    "    \n",
    "    # update lat lon\n",
    "    df_cleaned = readCleanLoc(cleanLocSource)\n",
    "    df.lat = df_cleaned.lat\n",
    "    df.lon = df_cleaned.lon\n",
    "    \n",
    "    # assert no nan\n",
    "    assert not df.isnull().values.any()\n",
    "    assert not df_cleaned.isnull().values.any()\n",
    "\n",
    "    return df"
   ]
  },
  {
   "cell_type": "markdown",
   "metadata": {
    "slideshow": {
     "slide_type": "subslide"
    }
   },
   "source": [
    "#### Plot with Folium"
   ]
  },
  {
   "cell_type": "code",
   "execution_count": 11,
   "metadata": {
    "nbpresent": {
     "id": "d555cbde-25f8-4e84-8be6-2c924ee7311e"
    },
    "slideshow": {
     "slide_type": "skip"
    }
   },
   "outputs": [],
   "source": [
    "def plotMap(origFile, cleanLoc, mapSink, start, end):\n",
    "    '''\n",
    "    @param origFile: original dataset file\n",
    "    @param cleanLoc: cleaned lat/lon file\n",
    "    @param mapSink: saving destination of generated map\n",
    "    '''\n",
    "\n",
    "    # read data\n",
    "    df = readOrig(origFile, cleanLoc)\n",
    "    \n",
    "    # create map object\n",
    "    accWA = folium.Map([df.lat.median(), df.lon.median()],\n",
    "                   # tiles=\"cartodbpositron\",\n",
    "                   tiles = '',\n",
    "                   # width='80%',\n",
    "                   # height='80%',\n",
    "                   prefer_canvas=True,\n",
    "                   zoom_start=7)\n",
    "    # add tile layer\n",
    "    folium.TileLayer('cartodbpositron', name = 'bright').add_to(accWA)\n",
    "    folium.TileLayer('CartoDB dark_matter', name = 'dark').add_to(accWA)\n",
    "    \n",
    "    # create crash layer\n",
    "    crashes = []\n",
    "    clusters = []\n",
    "    for year in range(start, end + 1):\n",
    "        \n",
    "        # create cluster layer\n",
    "        yrClust = folium.FeatureGroup(name=str(year) + '_Clusters', show=False)\n",
    "        clusters.append(yrClust)\n",
    "        accWA.add_child(clusters[-1])\n",
    "\n",
    "        # add cluster layer to feature group\n",
    "        marClst = folium.plugins.FastMarkerCluster(\n",
    "            data=list(zip(df[df['year'] == year]['lat'].values, df[df['year'] == year]['lon'].values))\n",
    "        ).add_to(clusters[-1])\n",
    "        \n",
    "        # individual crashes\n",
    "        yrCrash = folium.FeatureGroup(name=str(year) + '_Crashes', show=False)\n",
    "        crashes.append(yrCrash)\n",
    "        accWA.add_child(crashes[-1])\n",
    "        \n",
    "        # add crashe events to their layers\n",
    "        for _, row in df[df['year'] == year].iterrows():\n",
    "            folium.CircleMarker([row['lat'], row['lon']],\n",
    "                          radius=max((row['# INJ'] + row['# FAT']), 1),\n",
    "                          popup=\"Occured at: {}\\nwith {} INJ and {} FAT\".format(\n",
    "                              row['PRIMARY TRAFFICWAY'], row['# INJ'], row['# FAT']),\n",
    "                          # fill_color=\"#3db7e4\",\n",
    "                          color=\"#007849\",\n",
    "                          fill=False\n",
    "                         ).add_to(crashes[-1])\n",
    "    \n",
    "        \n",
    "\n",
    "    # add layer control\n",
    "    folium.LayerControl().add_to(accWA)\n",
    "            \n",
    "    # save map\n",
    "    accWA.save(mapSink)\n",
    "    \n",
    "    return accWA"
   ]
  },
  {
   "cell_type": "code",
   "execution_count": null,
   "metadata": {
    "nbpresent": {
     "id": "e1253ac3-d93b-4f27-80d9-a63053baf967"
    },
    "slideshow": {
     "slide_type": "fragment"
    }
   },
   "outputs": [],
   "source": [
    "_ = plotMap(\"WA_Rural_St_RtesCrashes_Full.csv\",\n",
    "            \"coords_gps.csv\",\n",
    "            \"folium_year.html\",\n",
    "            2010, 2017)"
   ]
  },
  {
   "cell_type": "markdown",
   "metadata": {
    "slideshow": {
     "slide_type": "fragment"
    }
   },
   "source": [
    "##### View the Crashes By Year plot [here](https://syin3.github.io/WA-Crash-Viz-and-Analysis/folium_year.html).<br>\n",
    "##### View the Crashes By County plot [here](https://syin3.github.io/WA-Crash-Viz-and-Analysis/folium_county.html).<br>"
   ]
  },
  {
   "cell_type": "markdown",
   "metadata": {
    "heading_collapsed": true,
    "slideshow": {
     "slide_type": "slide"
    }
   },
   "source": [
    "## Bokeh simple example"
   ]
  },
  {
   "cell_type": "markdown",
   "metadata": {
    "slideshow": {
     "slide_type": "slide"
    }
   },
   "source": [
    "## Matplotlib simple example"
   ]
  },
  {
   "cell_type": "markdown",
   "metadata": {
    "slideshow": {
     "slide_type": "slide"
    }
   },
   "source": [
    "## Comparison of Folium vs. Bokeh vs. Matplotlib"
   ]
  },
  {
   "cell_type": "code",
   "execution_count": 8,
   "metadata": {
    "slideshow": {
     "slide_type": "skip"
    }
   },
   "outputs": [
    {
     "data": {
      "text/html": [
       "<style>\n",
       "table {float:left}\n",
       "</style> "
      ],
      "text/plain": [
       "<IPython.core.display.HTML object>"
      ]
     },
     "metadata": {},
     "output_type": "display_data"
    }
   ],
   "source": [
    "%%html\n",
    "<style>\n",
    "table {float:left}\n",
    "</style> "
   ]
  },
  {
   "cell_type": "markdown",
   "metadata": {
    "collapsed": true,
    "slideshow": {
     "slide_type": "fragment"
    }
   },
   "source": [
    "| Folium | Bokeh | Matplotlib |\n",
    "| :---: | :---: | :---: |\n",
    "| <font color='red'>Interactive</font> | <font color='red'>Interactive</font> | <font color='steelblue'>Static</font> |\n",
    "| <font color='red'>Higher capacity</font> | <font color='steelblue'>Lower capacity</font> | <font color='steelblue'>Static</font> |"
   ]
  },
  {
   "cell_type": "markdown",
   "metadata": {
    "slideshow": {
     "slide_type": "slide"
    }
   },
   "source": [
    "## Thanks! Q&A time"
   ]
  },
  {
   "cell_type": "code",
   "execution_count": null,
   "metadata": {
    "collapsed": true,
    "slideshow": {
     "slide_type": "skip"
    }
   },
   "outputs": [],
   "source": []
  },
  {
   "cell_type": "markdown",
   "metadata": {
    "heading_collapsed": true,
    "slideshow": {
     "slide_type": "skip"
    }
   },
   "source": [
    "## Aggregate by year"
   ]
  },
  {
   "cell_type": "code",
   "execution_count": null,
   "metadata": {
    "collapsed": true,
    "hidden": true,
    "slideshow": {
     "slide_type": "skip"
    }
   },
   "outputs": [],
   "source": [
    "df = pd.read_csv(\"WA_Rural_St_RtesCrashes_Full.csv\")\n",
    "df['date'] = pd.to_datetime(df['DATE'])"
   ]
  },
  {
   "cell_type": "code",
   "execution_count": 29,
   "metadata": {
    "hidden": true,
    "slideshow": {
     "slide_type": "skip"
    }
   },
   "outputs": [
    {
     "data": {
      "text/html": [
       "<div>\n",
       "<style scoped>\n",
       "    .dataframe tbody tr th:only-of-type {\n",
       "        vertical-align: middle;\n",
       "    }\n",
       "\n",
       "    .dataframe tbody tr th {\n",
       "        vertical-align: top;\n",
       "    }\n",
       "\n",
       "    .dataframe thead tr th {\n",
       "        text-align: left;\n",
       "    }\n",
       "\n",
       "    .dataframe thead tr:last-of-type th {\n",
       "        text-align: right;\n",
       "    }\n",
       "</style>\n",
       "<table border=\"1\" class=\"dataframe\">\n",
       "  <thead>\n",
       "    <tr>\n",
       "      <th></th>\n",
       "      <th>JURISDICTION</th>\n",
       "      <th>COUNTY</th>\n",
       "      <th>CITY</th>\n",
       "      <th>PRIMARY TRAFFICWAY</th>\n",
       "      <th>MILEPOST</th>\n",
       "      <th>A/B</th>\n",
       "      <th>SR ONLY HISTORY / SUSPENSE IND</th>\n",
       "      <th>REPORT NUMBER</th>\n",
       "      <th>DATE</th>\n",
       "      <th>TIME</th>\n",
       "      <th>...</th>\n",
       "      <th>BICYCLIST CONTRIBUTING CIRCUMSTANCE 1 (UNIT 2)</th>\n",
       "      <th>BICYCLIST CONTRIBUTING CIRCUMSTANCE 2 (UNIT 2)</th>\n",
       "      <th>BICYCLIST CONTRIBUTING CIRCUMSTANCE 3 (UNIT 2)</th>\n",
       "      <th>PEDESTRIAN CONTRIBUTING CIRCUMSTANCE 1 (UNIT 2)</th>\n",
       "      <th>PEDESTRIAN CONTRIBUTING CIRCUMSTANCE 2 (UNIT 2)</th>\n",
       "      <th>PEDESTRIAN CONTRIBUTING CIRCUMSTANCE 3 (UNIT 2)</th>\n",
       "      <th>FIRST IMPACT LOCATION (City, County &amp; Misc Trafficways - 2010 forward)</th>\n",
       "      <th>WA STATE PLANE SOUTH - X 2010 - FORWARD</th>\n",
       "      <th>WA STATE PLANE SOUTH - Y 2010 - FORWARD</th>\n",
       "      <th>date</th>\n",
       "    </tr>\n",
       "    <tr>\n",
       "      <th></th>\n",
       "      <th>count</th>\n",
       "      <th>count</th>\n",
       "      <th>count</th>\n",
       "      <th>count</th>\n",
       "      <th>count</th>\n",
       "      <th>count</th>\n",
       "      <th>count</th>\n",
       "      <th>count</th>\n",
       "      <th>count</th>\n",
       "      <th>count</th>\n",
       "      <th>...</th>\n",
       "      <th>count</th>\n",
       "      <th>count</th>\n",
       "      <th>count</th>\n",
       "      <th>count</th>\n",
       "      <th>count</th>\n",
       "      <th>count</th>\n",
       "      <th>count</th>\n",
       "      <th>count</th>\n",
       "      <th>count</th>\n",
       "      <th>count</th>\n",
       "    </tr>\n",
       "    <tr>\n",
       "      <th>year</th>\n",
       "      <th></th>\n",
       "      <th></th>\n",
       "      <th></th>\n",
       "      <th></th>\n",
       "      <th></th>\n",
       "      <th></th>\n",
       "      <th></th>\n",
       "      <th></th>\n",
       "      <th></th>\n",
       "      <th></th>\n",
       "      <th></th>\n",
       "      <th></th>\n",
       "      <th></th>\n",
       "      <th></th>\n",
       "      <th></th>\n",
       "      <th></th>\n",
       "      <th></th>\n",
       "      <th></th>\n",
       "      <th></th>\n",
       "      <th></th>\n",
       "      <th></th>\n",
       "    </tr>\n",
       "  </thead>\n",
       "  <tbody>\n",
       "    <tr>\n",
       "      <th>2007</th>\n",
       "      <td>10883</td>\n",
       "      <td>10883</td>\n",
       "      <td>3890</td>\n",
       "      <td>10883</td>\n",
       "      <td>10883</td>\n",
       "      <td>77</td>\n",
       "      <td>10883</td>\n",
       "      <td>10883</td>\n",
       "      <td>10883</td>\n",
       "      <td>10883</td>\n",
       "      <td>...</td>\n",
       "      <td>24</td>\n",
       "      <td>1</td>\n",
       "      <td>0</td>\n",
       "      <td>63</td>\n",
       "      <td>6</td>\n",
       "      <td>1</td>\n",
       "      <td>10883</td>\n",
       "      <td>0</td>\n",
       "      <td>0</td>\n",
       "      <td>10883</td>\n",
       "    </tr>\n",
       "    <tr>\n",
       "      <th>2008</th>\n",
       "      <td>10431</td>\n",
       "      <td>10431</td>\n",
       "      <td>3648</td>\n",
       "      <td>10431</td>\n",
       "      <td>10431</td>\n",
       "      <td>77</td>\n",
       "      <td>10431</td>\n",
       "      <td>10431</td>\n",
       "      <td>10431</td>\n",
       "      <td>10431</td>\n",
       "      <td>...</td>\n",
       "      <td>25</td>\n",
       "      <td>1</td>\n",
       "      <td>0</td>\n",
       "      <td>76</td>\n",
       "      <td>9</td>\n",
       "      <td>3</td>\n",
       "      <td>10431</td>\n",
       "      <td>6</td>\n",
       "      <td>6</td>\n",
       "      <td>10431</td>\n",
       "    </tr>\n",
       "    <tr>\n",
       "      <th>2009</th>\n",
       "      <td>10074</td>\n",
       "      <td>10074</td>\n",
       "      <td>3567</td>\n",
       "      <td>10074</td>\n",
       "      <td>10074</td>\n",
       "      <td>60</td>\n",
       "      <td>10074</td>\n",
       "      <td>10074</td>\n",
       "      <td>10074</td>\n",
       "      <td>10074</td>\n",
       "      <td>...</td>\n",
       "      <td>38</td>\n",
       "      <td>5</td>\n",
       "      <td>0</td>\n",
       "      <td>55</td>\n",
       "      <td>2</td>\n",
       "      <td>0</td>\n",
       "      <td>10074</td>\n",
       "      <td>29</td>\n",
       "      <td>29</td>\n",
       "      <td>10074</td>\n",
       "    </tr>\n",
       "    <tr>\n",
       "      <th>2010</th>\n",
       "      <td>9962</td>\n",
       "      <td>9962</td>\n",
       "      <td>3595</td>\n",
       "      <td>9962</td>\n",
       "      <td>9962</td>\n",
       "      <td>61</td>\n",
       "      <td>9962</td>\n",
       "      <td>9962</td>\n",
       "      <td>9962</td>\n",
       "      <td>9962</td>\n",
       "      <td>...</td>\n",
       "      <td>37</td>\n",
       "      <td>1</td>\n",
       "      <td>0</td>\n",
       "      <td>71</td>\n",
       "      <td>3</td>\n",
       "      <td>0</td>\n",
       "      <td>9962</td>\n",
       "      <td>9927</td>\n",
       "      <td>9927</td>\n",
       "      <td>9962</td>\n",
       "    </tr>\n",
       "    <tr>\n",
       "      <th>2011</th>\n",
       "      <td>9668</td>\n",
       "      <td>9668</td>\n",
       "      <td>3328</td>\n",
       "      <td>9668</td>\n",
       "      <td>9668</td>\n",
       "      <td>75</td>\n",
       "      <td>9668</td>\n",
       "      <td>9668</td>\n",
       "      <td>9668</td>\n",
       "      <td>9668</td>\n",
       "      <td>...</td>\n",
       "      <td>42</td>\n",
       "      <td>2</td>\n",
       "      <td>0</td>\n",
       "      <td>77</td>\n",
       "      <td>4</td>\n",
       "      <td>0</td>\n",
       "      <td>9668</td>\n",
       "      <td>9643</td>\n",
       "      <td>9643</td>\n",
       "      <td>9668</td>\n",
       "    </tr>\n",
       "    <tr>\n",
       "      <th>2012</th>\n",
       "      <td>9993</td>\n",
       "      <td>9993</td>\n",
       "      <td>3472</td>\n",
       "      <td>9993</td>\n",
       "      <td>9993</td>\n",
       "      <td>77</td>\n",
       "      <td>9993</td>\n",
       "      <td>9993</td>\n",
       "      <td>9993</td>\n",
       "      <td>9993</td>\n",
       "      <td>...</td>\n",
       "      <td>36</td>\n",
       "      <td>3</td>\n",
       "      <td>0</td>\n",
       "      <td>79</td>\n",
       "      <td>5</td>\n",
       "      <td>0</td>\n",
       "      <td>9993</td>\n",
       "      <td>9992</td>\n",
       "      <td>9992</td>\n",
       "      <td>9993</td>\n",
       "    </tr>\n",
       "    <tr>\n",
       "      <th>2013</th>\n",
       "      <td>9532</td>\n",
       "      <td>9532</td>\n",
       "      <td>3460</td>\n",
       "      <td>9532</td>\n",
       "      <td>9532</td>\n",
       "      <td>70</td>\n",
       "      <td>9532</td>\n",
       "      <td>9532</td>\n",
       "      <td>9532</td>\n",
       "      <td>9532</td>\n",
       "      <td>...</td>\n",
       "      <td>43</td>\n",
       "      <td>6</td>\n",
       "      <td>2</td>\n",
       "      <td>68</td>\n",
       "      <td>9</td>\n",
       "      <td>0</td>\n",
       "      <td>9532</td>\n",
       "      <td>9532</td>\n",
       "      <td>9532</td>\n",
       "      <td>9532</td>\n",
       "    </tr>\n",
       "    <tr>\n",
       "      <th>2014</th>\n",
       "      <td>10405</td>\n",
       "      <td>10405</td>\n",
       "      <td>3680</td>\n",
       "      <td>10405</td>\n",
       "      <td>10405</td>\n",
       "      <td>74</td>\n",
       "      <td>10405</td>\n",
       "      <td>10405</td>\n",
       "      <td>10405</td>\n",
       "      <td>10405</td>\n",
       "      <td>...</td>\n",
       "      <td>49</td>\n",
       "      <td>11</td>\n",
       "      <td>6</td>\n",
       "      <td>71</td>\n",
       "      <td>5</td>\n",
       "      <td>1</td>\n",
       "      <td>10405</td>\n",
       "      <td>10405</td>\n",
       "      <td>10405</td>\n",
       "      <td>10405</td>\n",
       "    </tr>\n",
       "    <tr>\n",
       "      <th>2015</th>\n",
       "      <td>11284</td>\n",
       "      <td>11284</td>\n",
       "      <td>4166</td>\n",
       "      <td>11284</td>\n",
       "      <td>11284</td>\n",
       "      <td>79</td>\n",
       "      <td>11284</td>\n",
       "      <td>11284</td>\n",
       "      <td>11284</td>\n",
       "      <td>11284</td>\n",
       "      <td>...</td>\n",
       "      <td>60</td>\n",
       "      <td>12</td>\n",
       "      <td>3</td>\n",
       "      <td>72</td>\n",
       "      <td>12</td>\n",
       "      <td>3</td>\n",
       "      <td>11284</td>\n",
       "      <td>11284</td>\n",
       "      <td>11284</td>\n",
       "      <td>11284</td>\n",
       "    </tr>\n",
       "    <tr>\n",
       "      <th>2016</th>\n",
       "      <td>12025</td>\n",
       "      <td>12025</td>\n",
       "      <td>4279</td>\n",
       "      <td>12025</td>\n",
       "      <td>12025</td>\n",
       "      <td>78</td>\n",
       "      <td>12025</td>\n",
       "      <td>12025</td>\n",
       "      <td>12025</td>\n",
       "      <td>12025</td>\n",
       "      <td>...</td>\n",
       "      <td>48</td>\n",
       "      <td>6</td>\n",
       "      <td>0</td>\n",
       "      <td>74</td>\n",
       "      <td>8</td>\n",
       "      <td>1</td>\n",
       "      <td>12025</td>\n",
       "      <td>12025</td>\n",
       "      <td>12025</td>\n",
       "      <td>12025</td>\n",
       "    </tr>\n",
       "    <tr>\n",
       "      <th>2017</th>\n",
       "      <td>11838</td>\n",
       "      <td>11838</td>\n",
       "      <td>4178</td>\n",
       "      <td>11838</td>\n",
       "      <td>11838</td>\n",
       "      <td>85</td>\n",
       "      <td>11838</td>\n",
       "      <td>11838</td>\n",
       "      <td>11838</td>\n",
       "      <td>11838</td>\n",
       "      <td>...</td>\n",
       "      <td>43</td>\n",
       "      <td>11</td>\n",
       "      <td>2</td>\n",
       "      <td>75</td>\n",
       "      <td>11</td>\n",
       "      <td>2</td>\n",
       "      <td>11838</td>\n",
       "      <td>11838</td>\n",
       "      <td>11838</td>\n",
       "      <td>11838</td>\n",
       "    </tr>\n",
       "  </tbody>\n",
       "</table>\n",
       "<p>11 rows × 48 columns</p>\n",
       "</div>"
      ],
      "text/plain": [
       "     JURISDICTION COUNTY  CITY PRIMARY TRAFFICWAY MILEPOST   A/B  \\\n",
       "            count  count count              count    count count   \n",
       "year                                                               \n",
       "2007        10883  10883  3890              10883    10883    77   \n",
       "2008        10431  10431  3648              10431    10431    77   \n",
       "2009        10074  10074  3567              10074    10074    60   \n",
       "2010         9962   9962  3595               9962     9962    61   \n",
       "2011         9668   9668  3328               9668     9668    75   \n",
       "2012         9993   9993  3472               9993     9993    77   \n",
       "2013         9532   9532  3460               9532     9532    70   \n",
       "2014        10405  10405  3680              10405    10405    74   \n",
       "2015        11284  11284  4166              11284    11284    79   \n",
       "2016        12025  12025  4279              12025    12025    78   \n",
       "2017        11838  11838  4178              11838    11838    85   \n",
       "\n",
       "     SR ONLY HISTORY / SUSPENSE IND REPORT NUMBER   DATE   TIME  ...    \\\n",
       "                              count         count  count  count  ...     \n",
       "year                                                             ...     \n",
       "2007                          10883         10883  10883  10883  ...     \n",
       "2008                          10431         10431  10431  10431  ...     \n",
       "2009                          10074         10074  10074  10074  ...     \n",
       "2010                           9962          9962   9962   9962  ...     \n",
       "2011                           9668          9668   9668   9668  ...     \n",
       "2012                           9993          9993   9993   9993  ...     \n",
       "2013                           9532          9532   9532   9532  ...     \n",
       "2014                          10405         10405  10405  10405  ...     \n",
       "2015                          11284         11284  11284  11284  ...     \n",
       "2016                          12025         12025  12025  12025  ...     \n",
       "2017                          11838         11838  11838  11838  ...     \n",
       "\n",
       "     BICYCLIST CONTRIBUTING CIRCUMSTANCE 1 (UNIT 2)  \\\n",
       "                                              count   \n",
       "year                                                  \n",
       "2007                                             24   \n",
       "2008                                             25   \n",
       "2009                                             38   \n",
       "2010                                             37   \n",
       "2011                                             42   \n",
       "2012                                             36   \n",
       "2013                                             43   \n",
       "2014                                             49   \n",
       "2015                                             60   \n",
       "2016                                             48   \n",
       "2017                                             43   \n",
       "\n",
       "     BICYCLIST CONTRIBUTING CIRCUMSTANCE 2 (UNIT 2)  \\\n",
       "                                              count   \n",
       "year                                                  \n",
       "2007                                              1   \n",
       "2008                                              1   \n",
       "2009                                              5   \n",
       "2010                                              1   \n",
       "2011                                              2   \n",
       "2012                                              3   \n",
       "2013                                              6   \n",
       "2014                                             11   \n",
       "2015                                             12   \n",
       "2016                                              6   \n",
       "2017                                             11   \n",
       "\n",
       "     BICYCLIST CONTRIBUTING CIRCUMSTANCE 3 (UNIT 2)  \\\n",
       "                                              count   \n",
       "year                                                  \n",
       "2007                                              0   \n",
       "2008                                              0   \n",
       "2009                                              0   \n",
       "2010                                              0   \n",
       "2011                                              0   \n",
       "2012                                              0   \n",
       "2013                                              2   \n",
       "2014                                              6   \n",
       "2015                                              3   \n",
       "2016                                              0   \n",
       "2017                                              2   \n",
       "\n",
       "     PEDESTRIAN CONTRIBUTING CIRCUMSTANCE 1 (UNIT 2)  \\\n",
       "                                               count   \n",
       "year                                                   \n",
       "2007                                              63   \n",
       "2008                                              76   \n",
       "2009                                              55   \n",
       "2010                                              71   \n",
       "2011                                              77   \n",
       "2012                                              79   \n",
       "2013                                              68   \n",
       "2014                                              71   \n",
       "2015                                              72   \n",
       "2016                                              74   \n",
       "2017                                              75   \n",
       "\n",
       "     PEDESTRIAN CONTRIBUTING CIRCUMSTANCE 2 (UNIT 2)  \\\n",
       "                                               count   \n",
       "year                                                   \n",
       "2007                                               6   \n",
       "2008                                               9   \n",
       "2009                                               2   \n",
       "2010                                               3   \n",
       "2011                                               4   \n",
       "2012                                               5   \n",
       "2013                                               9   \n",
       "2014                                               5   \n",
       "2015                                              12   \n",
       "2016                                               8   \n",
       "2017                                              11   \n",
       "\n",
       "     PEDESTRIAN CONTRIBUTING CIRCUMSTANCE 3 (UNIT 2)  \\\n",
       "                                               count   \n",
       "year                                                   \n",
       "2007                                               1   \n",
       "2008                                               3   \n",
       "2009                                               0   \n",
       "2010                                               0   \n",
       "2011                                               0   \n",
       "2012                                               0   \n",
       "2013                                               0   \n",
       "2014                                               1   \n",
       "2015                                               3   \n",
       "2016                                               1   \n",
       "2017                                               2   \n",
       "\n",
       "     FIRST IMPACT LOCATION (City, County & Misc Trafficways - 2010 forward)  \\\n",
       "                                                                      count   \n",
       "year                                                                          \n",
       "2007                                              10883                       \n",
       "2008                                              10431                       \n",
       "2009                                              10074                       \n",
       "2010                                               9962                       \n",
       "2011                                               9668                       \n",
       "2012                                               9993                       \n",
       "2013                                               9532                       \n",
       "2014                                              10405                       \n",
       "2015                                              11284                       \n",
       "2016                                              12025                       \n",
       "2017                                              11838                       \n",
       "\n",
       "     WA STATE PLANE SOUTH - X 2010 - FORWARD  \\\n",
       "                                       count   \n",
       "year                                           \n",
       "2007                                       0   \n",
       "2008                                       6   \n",
       "2009                                      29   \n",
       "2010                                    9927   \n",
       "2011                                    9643   \n",
       "2012                                    9992   \n",
       "2013                                    9532   \n",
       "2014                                   10405   \n",
       "2015                                   11284   \n",
       "2016                                   12025   \n",
       "2017                                   11838   \n",
       "\n",
       "     WA STATE PLANE SOUTH - Y 2010 - FORWARD   date  \n",
       "                                       count  count  \n",
       "year                                                 \n",
       "2007                                       0  10883  \n",
       "2008                                       6  10431  \n",
       "2009                                      29  10074  \n",
       "2010                                    9927   9962  \n",
       "2011                                    9643   9668  \n",
       "2012                                    9992   9993  \n",
       "2013                                    9532   9532  \n",
       "2014                                   10405  10405  \n",
       "2015                                   11284  11284  \n",
       "2016                                   12025  12025  \n",
       "2017                                   11838  11838  \n",
       "\n",
       "[11 rows x 48 columns]"
      ]
     },
     "execution_count": 29,
     "metadata": {},
     "output_type": "execute_result"
    }
   ],
   "source": [
    "df['year'] = df['date'].dt.year\n",
    "df.groupby(['year']).agg(['count'])"
   ]
  },
  {
   "cell_type": "markdown",
   "metadata": {
    "hidden": true,
    "slideshow": {
     "slide_type": "skip"
    }
   },
   "source": [
    "### Num of cases across years"
   ]
  },
  {
   "cell_type": "code",
   "execution_count": 30,
   "metadata": {
    "hidden": true,
    "slideshow": {
     "slide_type": "skip"
    }
   },
   "outputs": [
    {
     "data": {
      "text/plain": [
       "2016    12025\n",
       "2017    11838\n",
       "2015    11284\n",
       "2007    10883\n",
       "2008    10431\n",
       "2014    10405\n",
       "2009    10074\n",
       "2012     9993\n",
       "2010     9962\n",
       "2011     9668\n",
       "2013     9532\n",
       "Name: year, dtype: int64"
      ]
     },
     "execution_count": 30,
     "metadata": {},
     "output_type": "execute_result"
    }
   ],
   "source": [
    "df['year'].value_counts()"
   ]
  },
  {
   "cell_type": "code",
   "execution_count": 36,
   "metadata": {
    "hidden": true,
    "scrolled": false,
    "slideshow": {
     "slide_type": "skip"
    }
   },
   "outputs": [
    {
     "data": {
      "image/png": "[encoded data removed]",
      "text/plain": [
       "<matplotlib.figure.Figure at 0x11935d588>"
      ]
     },
     "metadata": {},
     "output_type": "display_data"
    }
   ],
   "source": [
    "from matplotlib import pyplot as plt\n",
    "plt.plot(df['year'].value_counts().sort_index())\n",
    "plt.show()"
   ]
  }
 ],
 "metadata": {
  "anaconda-cloud": {},
  "celltoolbar": "Slideshow",
  "kernelspec": {
   "display_name": "Python [default]",
   "language": "python",
   "name": "python3"
  },
  "language_info": {
   "codemirror_mode": {
    "name": "ipython",
    "version": 3
   },
   "file_extension": ".py",
   "mimetype": "text/x-python",
   "name": "python",
   "nbconvert_exporter": "python",
   "pygments_lexer": "ipython3",
   "version": "3.5.2"
  }
 },
 "nbformat": 4,
 "nbformat_minor": 2
}
